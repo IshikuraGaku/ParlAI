{
 "cells": [
  {
   "cell_type": "code",
   "execution_count": 1,
   "metadata": {},
   "outputs": [],
   "source": [
    "    def sort_knowledge(target_tensor):\n",
    "        print(\"OK\")\n",
    "        #類似度の高い順に並んだインデックス番号のTensorリストを返す\n",
    "        target_taple_list = [target_taple for i, val in enumerate(target_tensor[0])]\n",
    "        print(target_taple_list)\n",
    "        merge_sort(target_taple_list)\n",
    "        print(target_taple_list)\n",
    "        sorted_target_id = th.tensor([i for i, _ in target_taple_list], device=target_tensor.device)\n",
    "\n",
    "        return sorted_target_id"
   ]
  },
  {
   "cell_type": "code",
   "execution_count": 3,
   "metadata": {},
   "outputs": [],
   "source": [
    "    def merge_sort(target_taple_list):\n",
    "        if(len(target_taple_list) > 1):\n",
    "            m = int(len(target_taple_list) / 2) \n",
    "            #n = int(len(target_taple_list) - m)\n",
    "            a1 = target_taple_list[:m]\n",
    "            a2 = target_taple_list[-m:]\n",
    "            merge_sort(a1)\n",
    "            merge_sort(a2)\n",
    "            merge(a1, a2, target_taple_list)"
   ]
  },
  {
   "cell_type": "code",
   "execution_count": 6,
   "metadata": {},
   "outputs": [],
   "source": [
    "    def merge(a1, a2, a):\n",
    "        i = 0\n",
    "        j = 0\n",
    "        while(i < len(a1) or j < len(a2)):\n",
    "            if(j >= len(a2) or (i<len(a1) and a1[i][1] < a2[j][1])):\n",
    "                a[i+j] = a1[i]\n",
    "                i += 1\n",
    "            else:\n",
    "                a[i+j] = a2[i]\n",
    "                j += 1"
   ]
  },
  {
   "cell_type": "code",
   "execution_count": null,
   "metadata": {},
   "outputs": [],
   "source": []
  }
 ],
 "metadata": {
  "kernelspec": {
   "display_name": "Python 3",
   "language": "python",
   "name": "python3"
  },
  "language_info": {
   "codemirror_mode": {
    "name": "ipython",
    "version": 3
   },
   "file_extension": ".py",
   "mimetype": "text/x-python",
   "name": "python",
   "nbconvert_exporter": "python",
   "pygments_lexer": "ipython3",
   "version": "3.7.3"
  }
 },
 "nbformat": 4,
 "nbformat_minor": 2
}
